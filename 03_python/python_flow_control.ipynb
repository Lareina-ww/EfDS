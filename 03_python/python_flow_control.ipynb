{
 "cells": [
  {
   "cell_type": "markdown",
   "metadata": {},
   "source": [
    "# Flow control"
   ]
  },
  {
   "cell_type": "markdown",
   "metadata": {},
   "source": [
    "## Key points of the previous lectures"
   ]
  },
  {
   "cell_type": "markdown",
   "metadata": {},
   "source": [
    "Let's define a list and a tuple:"
   ]
  },
  {
   "cell_type": "code",
   "execution_count": 6,
   "metadata": {},
   "outputs": [],
   "source": [
    "someNames = (\"Ana\", \"Ben\", \"Clara\", \"David\", \"Eva\", \"Fred\") # A tuple of strings\n",
    "someAges = [23, 45, 12, 45, 45, 56]                         # A list of integers"
   ]
  },
  {
   "cell_type": "markdown",
   "metadata": {},
   "source": [
    "元组()tuple不可变; 列表list[]可变"
   ]
  },
  {
   "cell_type": "code",
   "execution_count": 7,
   "metadata": {},
   "outputs": [
    {
     "data": {
      "text/plain": [
       "('Ana', 'Ben', 'Clara', 'David', 'Eva', 'Fred')"
      ]
     },
     "execution_count": 7,
     "metadata": {},
     "output_type": "execute_result"
    }
   ],
   "source": [
    "someNames"
   ]
  },
  {
   "cell_type": "code",
   "execution_count": 8,
   "metadata": {},
   "outputs": [
    {
     "data": {
      "text/plain": [
       "[23, 45, 12, 45, 45, 56]"
      ]
     },
     "execution_count": 8,
     "metadata": {},
     "output_type": "execute_result"
    }
   ],
   "source": [
    "someAges"
   ]
  },
  {
   "cell_type": "markdown",
   "metadata": {},
   "source": [
    "We could manually create a dictionary mapping names to corresponding ages (keys to values):"
   ]
  },
  {
   "cell_type": "code",
   "execution_count": 9,
   "metadata": {},
   "outputs": [
    {
     "name": "stdout",
     "output_type": "stream",
     "text": [
      "<class 'dict'>\n",
      "12\n"
     ]
    }
   ],
   "source": [
    "names2ages = {\"Ana\": 23, \"Ben\": 45, \"Clara\": 12, \"David\": 45, \"Eva\": 45, \"Fred\": 56}\n",
    "print( type(names2ages) )\n",
    "print( names2ages[\"Clara\"] )       # Getting age of Clara\n",
    "#print( names2ages[\"Zenon\"] )      # Zenon is not in the dictionary, error is raised"
   ]
  },
  {
   "cell_type": "markdown",
   "metadata": {},
   "source": [
    "Of course, given `someNames` and `someAges`, we would not create `names2ages` dictionary manually. Let's study several expressions...  \n",
    "`zip()` function returns a generator:"
   ]
  },
  {
   "cell_type": "code",
   "execution_count": 10,
   "metadata": {},
   "outputs": [
    {
     "data": {
      "text/plain": [
       "<zip at 0x106dc1d80>"
      ]
     },
     "execution_count": 10,
     "metadata": {},
     "output_type": "execute_result"
    }
   ],
   "source": [
    "zip(someNames, someAges)           # A generator of tuples"
   ]
  },
  {
   "cell_type": "markdown",
   "metadata": {},
   "source": [
    "When the generator is iterated over, it knows how to produce tuples of elements from the input lists:"
   ]
  },
  {
   "cell_type": "code",
   "execution_count": 11,
   "metadata": {},
   "outputs": [
    {
     "data": {
      "text/plain": [
       "[('Ana', 23),\n",
       " ('Ben', 45),\n",
       " ('Clara', 12),\n",
       " ('David', 45),\n",
       " ('Eva', 45),\n",
       " ('Fred', 56)]"
      ]
     },
     "execution_count": 11,
     "metadata": {},
     "output_type": "execute_result"
    }
   ],
   "source": [
    "[item for item in zip(someNames, someAges)]    # Square brackets, so a list comprehension!"
   ]
  },
  {
   "cell_type": "markdown",
   "metadata": {},
   "source": [
    "Let's use the dictionary comprehension:"
   ]
  },
  {
   "cell_type": "code",
   "execution_count": 12,
   "metadata": {},
   "outputs": [
    {
     "data": {
      "text/plain": [
       "{'Ana': 23, 'Ben': 45, 'Clara': 12, 'David': 45, 'Eva': 45, 'Fred': 56}"
      ]
     },
     "execution_count": 12,
     "metadata": {},
     "output_type": "execute_result"
    }
   ],
   "source": [
    "{n:a for n, a in zip(someNames, someAges)}     # Curly braces, so a dictionary comprehension!"
   ]
  },
  {
   "cell_type": "markdown",
   "metadata": {},
   "source": [
    "Using `dict()` to create identical dictionary (it iterates over the tuples from the generator):"
   ]
  },
  {
   "cell_type": "code",
   "execution_count": 13,
   "metadata": {},
   "outputs": [
    {
     "data": {
      "text/plain": [
       "{'Ana': 23, 'Ben': 45, 'Clara': 12, 'David': 45, 'Eva': 45, 'Fred': 56}"
      ]
     },
     "execution_count": 13,
     "metadata": {},
     "output_type": "execute_result"
    }
   ],
   "source": [
    "n2a = dict(zip(someNames, someAges))\n",
    "n2a"
   ]
  },
  {
   "cell_type": "markdown",
   "metadata": {},
   "source": [
    "Finally, let's find unique ages by building a set from the age values of the dictionary:"
   ]
  },
  {
   "cell_type": "code",
   "execution_count": 14,
   "metadata": {},
   "outputs": [
    {
     "name": "stdout",
     "output_type": "stream",
     "text": [
      "dict_values([23, 45, 12, 45, 45, 56])\n"
     ]
    },
    {
     "data": {
      "text/plain": [
       "{12, 23, 45, 56}"
      ]
     },
     "execution_count": 14,
     "metadata": {},
     "output_type": "execute_result"
    }
   ],
   "source": [
    "print( n2a.values() )          # A generator providing a view of the dictionary values\n",
    "set(n2a.values())              # A set of the dictionary values (so no duplicates)"
   ]
  },
  {
   "attachments": {},
   "cell_type": "markdown",
   "metadata": {},
   "source": [
    "## Conditional statements"
   ]
  },
  {
   "attachments": {},
   "cell_type": "markdown",
   "metadata": {},
   "source": [
    "### Getting user input"
   ]
  },
  {
   "attachments": {},
   "cell_type": "markdown",
   "metadata": {},
   "source": [
    "Let's first learn how to ask the user for a text with the `input` function:"
   ]
  },
  {
   "cell_type": "code",
   "execution_count": 1,
   "metadata": {},
   "outputs": [
    {
     "name": "stdout",
     "output_type": "stream",
     "text": [
      "<class 'str'>\n",
      "\n"
     ]
    }
   ],
   "source": [
    "txt = input()          # a prompt or message box should appear on screen\n",
    "print( type( txt ) ) \n",
    "print( txt )"
   ]
  },
  {
   "attachments": {},
   "cell_type": "markdown",
   "metadata": {},
   "source": [
    "Note, that the user's text is returned as an object of type `str`. To convert it to an integer number use `int(...)`:"
   ]
  },
  {
   "cell_type": "code",
   "execution_count": 3,
   "metadata": {},
   "outputs": [
    {
     "data": {
      "text/plain": [
       "9.5"
      ]
     },
     "execution_count": 3,
     "metadata": {},
     "output_type": "execute_result"
    }
   ],
   "source": [
    "float('9.5')"
   ]
  },
  {
   "cell_type": "code",
   "execution_count": null,
   "metadata": {},
   "outputs": [
    {
     "name": "stdout",
     "output_type": "stream",
     "text": [
      "No positive number\n"
     ]
    }
   ],
   "source": [
    "txt = input('pls type a number ...')\n",
    "num = float(txt)\n",
    "\n",
    "if num > 0:\n",
    "    print('Positive number')\n",
    "elif num == 0:     # in python we wrote 'if else' = 'slif'\n",
    "    print('Zero')\n",
    "else:\n",
    "    print('No positive number')"
   ]
  },
  {
   "cell_type": "code",
   "execution_count": 18,
   "metadata": {},
   "outputs": [
    {
     "name": "stdout",
     "output_type": "stream",
     "text": [
      "Positive number\n"
     ]
    }
   ],
   "source": [
    "num = float(input('pls tyoe a num...'))\n",
    "txt = 'Positive number' if num >0 else 'No positive number'\n",
    "print(txt)"
   ]
  },
  {
   "cell_type": "code",
   "execution_count": 22,
   "metadata": {},
   "outputs": [
    {
     "data": {
      "text/plain": [
       "['Negative', 'positive', 'positive', 'Negative', 'positive']"
      ]
     },
     "execution_count": 22,
     "metadata": {},
     "output_type": "execute_result"
    }
   ],
   "source": [
    "ns = [-1, 0, 0, 1, 1, -1, 0, 1]\n",
    "['positive'if n>0 else 'Negative'for n in ns if n != 0]"
   ]
  },
  {
   "cell_type": "code",
   "execution_count": 23,
   "metadata": {},
   "outputs": [
    {
     "data": {
      "text/plain": [
       "['Negative',\n",
       " 'Zero',\n",
       " 'Zero',\n",
       " 'Positive',\n",
       " 'Positive',\n",
       " 'Negative',\n",
       " 'Zero',\n",
       " 'Positive']"
      ]
     },
     "execution_count": 23,
     "metadata": {},
     "output_type": "execute_result"
    }
   ],
   "source": [
    "ns = [-1, 0, 0, 1, 1, -1, 0, 1]\n",
    "['Positive' if n>0 else 'Negative' if n < 0 else 'Zero' for n in ns]"
   ]
  },
  {
   "cell_type": "code",
   "execution_count": 8,
   "metadata": {},
   "outputs": [
    {
     "name": "stdout",
     "output_type": "stream",
     "text": [
      "<class 'int'>\n",
      "3\n"
     ]
    }
   ],
   "source": [
    "txt = input()          # a prompt or message box should appear on screen\n",
    "n = int( txt )         # txt gets converted to an integer number n\n",
    "                       # if txt is a text not representing a number then int(...) raises ValueError exception\n",
    "print( type( n ) )\n",
    "print( n )"
   ]
  },
  {
   "attachments": {},
   "cell_type": "markdown",
   "metadata": {},
   "source": [
    "### Decision control statements: `if`, `if`/`else` and `if`/`elif`/`else`: "
   ]
  },
  {
   "attachments": {},
   "cell_type": "markdown",
   "metadata": {},
   "source": [
    "The statement `if` allows to choose whether a block of code should be executed or not, depending on a provided condition.\n",
    "\n",
    "The condition expression after `if` must evaluate to `True` or `False`.  \n",
    "When the result is `True` the statement(s) in the indented block after `if`...`:` are executed.  \n",
    "Otherwise the statements of the block are skipped over.\n",
    "\n",
    "Try the following code for different inputs:"
   ]
  },
  {
   "cell_type": "code",
   "execution_count": 24,
   "metadata": {},
   "outputs": [
    {
     "name": "stdout",
     "output_type": "stream",
     "text": [
      "Number 1.0 is positive.\n"
     ]
    }
   ],
   "source": [
    "n = float( input() )\n",
    "if n > 0:\n",
    "    print( f\"Number {n} is positive.\" )"
   ]
  },
  {
   "attachments": {},
   "cell_type": "markdown",
   "metadata": {},
   "source": [
    "When the `else` clause is present, then its statement(s) are executed when the `if` condition evaluates to `False`:"
   ]
  },
  {
   "cell_type": "code",
   "execution_count": null,
   "metadata": {},
   "outputs": [],
   "source": [
    "n = float( input() )\n",
    "if n > 0:\n",
    "    print( f\"Number {n} is positive.\" )\n",
    "else:\n",
    "    print( f\"Number {n} is nonpositive (either zero or negative).\" )"
   ]
  },
  {
   "attachments": {},
   "cell_type": "markdown",
   "metadata": {},
   "source": [
    "The `elif` clause allows testing of multiple conditions in a provided order.  \n",
    "The block corresponding to the first condition evaluated to `True` is executed and no further condition is tested.  \n",
    "When none of the conditions evaluates to `True`, the block corresponding to `else` is executed."
   ]
  },
  {
   "cell_type": "code",
   "execution_count": null,
   "metadata": {},
   "outputs": [],
   "source": [
    "n = float( input() )\n",
    "if n > 0:\n",
    "    print( f\"Number {n} is positive.\" )\n",
    "elif n < 0:\n",
    "    print( f\"Number {n} is negative.\" ) # when needed there can be many elif parts\n",
    "else:\n",
    "    print( f\"Number {n} is zero.\" )"
   ]
  },
  {
   "attachments": {},
   "cell_type": "markdown",
   "metadata": {},
   "source": [
    "### Conditional expressions"
   ]
  },
  {
   "attachments": {},
   "cell_type": "markdown",
   "metadata": {},
   "source": [
    "*Note:* Python offers *a conditional expression (Python’s Ternary Operator)* which also uses `if` and `else` keywords.\n",
    "\n",
    "The following code assigns different values to the variable `t` depending on a condition (`n>0`):"
   ]
  },
  {
   "cell_type": "code",
   "execution_count": 25,
   "metadata": {},
   "outputs": [
    {
     "name": "stdout",
     "output_type": "stream",
     "text": [
      "positive\n"
     ]
    }
   ],
   "source": [
    "n = float( input() )\n",
    "if n>0:\n",
    "    t = \"positive\"\n",
    "else:\n",
    "    t = \"nonpositive\"\n",
    "print( t )"
   ]
  },
  {
   "attachments": {},
   "cell_type": "markdown",
   "metadata": {},
   "source": [
    "The above code can be written using a conditional expression:"
   ]
  },
  {
   "cell_type": "code",
   "execution_count": null,
   "metadata": {},
   "outputs": [],
   "source": [
    "n = float( input() )\n",
    "t = \"positive\" if n>0 else \"nonpositive\"\n",
    "print( t )"
   ]
  },
  {
   "attachments": {},
   "cell_type": "markdown",
   "metadata": {},
   "source": [
    "Here is an example of a conditional expression used as the expression in a list comprehension:"
   ]
  },
  {
   "cell_type": "code",
   "execution_count": null,
   "metadata": {},
   "outputs": [],
   "source": [
    "ns = [ -1, 0, 1, -1, -1, 1 ]\n",
    "[\"positive\" if n > 0 else \"nonpositive\" for n in ns]"
   ]
  },
  {
   "attachments": {},
   "cell_type": "markdown",
   "metadata": {},
   "source": [
    "## Repetition control statements: `for` loops"
   ]
  },
  {
   "cell_type": "markdown",
   "metadata": {},
   "source": [
    "### Iterable objects"
   ]
  },
  {
   "attachments": {},
   "cell_type": "markdown",
   "metadata": {},
   "source": [
    "*Iterable* objects are capable of providing their elements one at a time.  \n",
    "Here are some examples of iterable objects:"
   ]
  },
  {
   "cell_type": "code",
   "execution_count": null,
   "metadata": {},
   "outputs": [],
   "source": [
    "# Several characters of a family sitcom.\n",
    "iterable1 = [ \"Claire\", \"Phil\", \"Haley\", \"Cameron\", \"Luke\", \"Mitchell\", \"Jay\", \"Gloria\" ]\n",
    "\n",
    "# A color scale robust to colorblindness: https://cran.r-project.org/web/packages/viridis/vignettes/intro-to-viridis.html\n",
    "# Hexadecimal numbers: https://wiki.osdev.org/Hexadecimal_Notation\n",
    "iterable2 = ( 0xfde725, 0x5ec962, 0x21918c, 0x3b528b, 0x440154 )\n",
    "\n",
    "# An unlikely combination of numbers in a lottery 6 out of 1,2,...,44,45.\n",
    "iterable3 = { 10, 15, 23, 24, 40 }\n",
    "\n",
    "# More on colors: https://www.rapidtables.com/web/color/RGB_Color.html\n",
    "# For loop will iterate over the keys.\n",
    "iterable4 = { \"red\":0xFF0000, \"green\":0x00FF00, \"blue\":0x0000FF, \"black\":0x000000, \"white\":0xFFFFFF }\n",
    "\n",
    "# Iterable over letters of the string.\n",
    "iterable5 = \"Statistics and Data Science\"\n",
    "\n",
    "# An arithmetic progression.\n",
    "iterable6 = range( 10, 15 )"
   ]
  },
  {
   "cell_type": "code",
   "execution_count": 26,
   "metadata": {},
   "outputs": [
    {
     "name": "stdout",
     "output_type": "stream",
     "text": [
      "Claire\n",
      "Claire\n",
      "Phil\n",
      "Haley\n",
      "Haley\n",
      "Cameron\n",
      "Cameron\n",
      "Luke\n",
      "Luke\n",
      "Mitchell\n",
      "Mitchell\n",
      "Jay\n",
      "Jay\n",
      "Gloria\n",
      "Gloria\n",
      "The loop is done\n"
     ]
    }
   ],
   "source": [
    "ns = [ \"Claire\", \"Phil\", \"Haley\", \"Cameron\", \"Luke\", \"Mitchell\", \"Jay\", \"Gloria\" ]\n",
    "for n in ns:\n",
    "    #first line of the for body\n",
    "    print(n)\n",
    "    if n == \"Phil\":\n",
    "        #break   # when Phil appear, it stopped\n",
    "        continue  # back to the first line to out put only one element named Phil\n",
    "    print(n)\n",
    "    #last line of the fir body\n",
    "else:\n",
    "    print('The loop is done')"
   ]
  },
  {
   "cell_type": "code",
   "execution_count": 27,
   "metadata": {},
   "outputs": [
    {
     "name": "stdout",
     "output_type": "stream",
     "text": [
      "try again\n",
      "you guessed the right number\n"
     ]
    }
   ],
   "source": [
    "from random import randint\n",
    "numberToGuess = randint(1, 6)\n",
    "\n",
    "while True: # repeat forever\n",
    "    guesseNumber = int(input('please guess the number 1...6'))\n",
    "    if guesseNumber == numberToGuess:\n",
    "        print('you guessed the right number')\n",
    "        break\n",
    "    else:\n",
    "        print('try again')"
   ]
  },
  {
   "attachments": {},
   "cell_type": "markdown",
   "metadata": {},
   "source": [
    "### A simple `for` loop"
   ]
  },
  {
   "attachments": {},
   "cell_type": "markdown",
   "metadata": {},
   "source": [
    "Here is an example of a `for` loop:"
   ]
  },
  {
   "cell_type": "code",
   "execution_count": null,
   "metadata": {},
   "outputs": [],
   "source": [
    "names = [ \"Claire\", \"Phil\", \"Haley\", \"Cameron\", \"Luke\", \"Mitchell\", \"Jay\", \"Gloria\" ]\n",
    "for n in names:\n",
    "    print( n )"
   ]
  },
  {
   "cell_type": "code",
   "execution_count": null,
   "metadata": {},
   "outputs": [],
   "source": [
    "for n in names:\n",
    "    # loop body start\n",
    "    print( n )\n",
    "    # loop body end"
   ]
  },
  {
   "attachments": {},
   "cell_type": "markdown",
   "metadata": {},
   "source": [
    "Some code needs to be present in the body part. During development this code might not be ready yet. Then, use `pass` as a placeholder.  \n",
    "(*Note:* `pass` is a doing-nothing-statement and can be used anywhere, not only in `for` loops)."
   ]
  },
  {
   "cell_type": "code",
   "execution_count": null,
   "metadata": {},
   "outputs": [],
   "source": [
    "for n in names:\n",
    "    pass"
   ]
  },
  {
   "attachments": {},
   "cell_type": "markdown",
   "metadata": {},
   "source": [
    "### A `for` loop with `continue`"
   ]
  },
  {
   "attachments": {},
   "cell_type": "markdown",
   "metadata": {},
   "source": [
    "Let's introduce several `print` commands to observe the order of code execution (i.e., the flow of the program):"
   ]
  },
  {
   "cell_type": "code",
   "execution_count": null,
   "metadata": {},
   "outputs": [],
   "source": [
    "print( \"Before loop\" )\n",
    "for i in range(3):\n",
    "    print( f\"Body start i={i}\" )\n",
    "    pass                           # some useful loop code could be here\n",
    "    print( f\"Body end i={i}\" )\n",
    "print( \"After loop\" )"
   ]
  },
  {
   "attachments": {},
   "cell_type": "markdown",
   "metadata": {},
   "source": [
    "The keyword `continue` stops execution of the remaining part of the loop's body and transfers the execution point back *to the beginning of the next iteration*:"
   ]
  },
  {
   "cell_type": "code",
   "execution_count": null,
   "metadata": {},
   "outputs": [],
   "source": [
    "print( \"Before loop\" )\n",
    "for i in range(3):\n",
    "    print( f\"Body start i={i}\" )\n",
    "    if i==1:\n",
    "        continue\n",
    "    print( f\"Body end i={i}\" )\n",
    "print( \"After loop\" )"
   ]
  },
  {
   "attachments": {},
   "cell_type": "markdown",
   "metadata": {},
   "source": [
    "### A `for` loop with `else` or `break`"
   ]
  },
  {
   "attachments": {},
   "cell_type": "markdown",
   "metadata": {},
   "source": [
    "In `for` loops, the keyword `else` allows to introduce a block of code which is executed after all iterations of the loop are done without any `break`.  \n",
    "The `else` block is then executed even if there were no iterations at all because the iterable was empty."
   ]
  },
  {
   "cell_type": "code",
   "execution_count": null,
   "metadata": {},
   "outputs": [],
   "source": [
    "print( \"Before loop\" )\n",
    "for i in range(3):\n",
    "    print( f\"Body start i={i}\" )\n",
    "    pass                           # some useful loop code could be here\n",
    "    print( f\"Body end i={i}\" )\n",
    "else:\n",
    "    print( \"Else block\" )\n",
    "print( \"After loop\" )"
   ]
  },
  {
   "attachments": {},
   "cell_type": "markdown",
   "metadata": {},
   "source": [
    "The keyword `break` stops execution of the remaining part of the loop's body and transfers the execution point *after the end of the loop*.  \n",
    "If an `else` part is present, `break` skips over it."
   ]
  },
  {
   "cell_type": "code",
   "execution_count": null,
   "metadata": {},
   "outputs": [],
   "source": [
    "print( \"Before loop\" )\n",
    "for i in range(3):\n",
    "    print( f\"Body start i={i}\" )\n",
    "    if i==2:\n",
    "        break\n",
    "    print( f\"Body end i={i}\" )\n",
    "else:\n",
    "    print( \"Else block\" )\n",
    "print( \"After loop\" )"
   ]
  },
  {
   "attachments": {},
   "cell_type": "markdown",
   "metadata": {},
   "source": [
    "## Repetition control statements: `while` loops"
   ]
  },
  {
   "attachments": {},
   "cell_type": "markdown",
   "metadata": {},
   "source": [
    "\n",
    "The keyword `while` allows repeating a block of code as long as a provided condition evaluates to `True`.  \n",
    "The keywords `break`, `continue` and `else` provide the same functionality as in `for` loops."
   ]
  },
  {
   "cell_type": "code",
   "execution_count": null,
   "metadata": {},
   "outputs": [],
   "source": [
    "from random import randint\n",
    "\n",
    "tossedNum = randint(1,6)\n",
    "while True:                       # loop forever (break is needed to stop the loop)\n",
    "    guessedNum = int( input( \"I tossed randomly a fair dice. Guess the number...\" ) )\n",
    "    if tossedNum==guessedNum:\n",
    "        print( \"Congratulations!\" )\n",
    "        break\n",
    "    print( \"You are wrong, try again...\" )"
   ]
  },
  {
   "attachments": {},
   "cell_type": "markdown",
   "metadata": {},
   "source": [
    "## User-defined functions"
   ]
  },
  {
   "cell_type": "markdown",
   "metadata": {},
   "source": [
    "how to create our own functions"
   ]
  },
  {
   "cell_type": "code",
   "execution_count": 28,
   "metadata": {},
   "outputs": [
    {
     "data": {
      "text/plain": [
       "3.0"
      ]
     },
     "execution_count": 28,
     "metadata": {},
     "output_type": "execute_result"
    }
   ],
   "source": [
    "def myMean( ns ):               #definition of the function\n",
    "    mean = sum(ns)/len(ns)      # body of the function\n",
    "    return mean                 #the return value, the result of the function\n",
    "myMean([1,2,3,4,5])  "
   ]
  },
  {
   "cell_type": "code",
   "execution_count": 29,
   "metadata": {},
   "outputs": [
    {
     "data": {
      "text/plain": [
       "{'math': 7.8, 'physics': 8.666666666666666, 'philosophy': 6.375}"
      ]
     },
     "execution_count": 29,
     "metadata": {},
     "output_type": "execute_result"
    }
   ],
   "source": [
    "course2grades = {\n",
    "    \"math\": ( 7, 9, 6.5, 8, 8.5 ),\n",
    "    \"physics\": ( 9, 8.5, 9.5, 8, 7.5, 9.5 ),\n",
    "    \"philosophy\": (6, 6.5, 6, 7 )\n",
    "}\n",
    "{course: myMean(grades) for course, grades in course2grades.items()}"
   ]
  },
  {
   "cell_type": "code",
   "execution_count": 30,
   "metadata": {},
   "outputs": [],
   "source": [
    "from math import log,exp\n",
    "def myMean(ns, isGeom =False): #add =false, then we dont need to add true/false next code\n",
    "    \"\"\"calculates arithmetic or geometric mean of a list of numbers\"\"\"# see next code\n",
    "    if isGeom:\n",
    "        logNs = [log(n) for n in ns]\n",
    "        mean = exp(sum(logNs)/len(ns)) #geometric mean\n",
    "    else:\n",
    "        mean = sum(ns)/len(ns)#arithmetic mean\n",
    "    return mean"
   ]
  },
  {
   "cell_type": "code",
   "execution_count": 31,
   "metadata": {},
   "outputs": [],
   "source": [
    "from math import log,exp\n",
    "def myMean(ns, isGeom =False): #add =false, then we dont need to add true/false next code\n",
    "    \"\"\"calculates arithmetic or geometric mean of a list of numbers\"\"\"# see next code\n",
    "    if isGeom==0:\n",
    "        raise RuntimeError('thr list of nuimbers is empty')\n",
    "    #raise ValueError('the list of nuimbers is empty')\n",
    "    if isGeom:\n",
    "        logNs = [log(n) for n in ns]\n",
    "        mean = exp(sum(logNs)/len(ns)) #geometric mean\n",
    "    else:\n",
    "        mean = sum(ns)/len(ns)#arithmetic mean\n",
    "    return mean"
   ]
  },
  {
   "cell_type": "code",
   "execution_count": 32,
   "metadata": {},
   "outputs": [
    {
     "ename": "RuntimeError",
     "evalue": "thr list of nuimbers is empty",
     "output_type": "error",
     "traceback": [
      "\u001b[0;31m---------------------------------------------------------------------------\u001b[0m",
      "\u001b[0;31mRuntimeError\u001b[0m                              Traceback (most recent call last)",
      "Cell \u001b[0;32mIn[32], line 1\u001b[0m\n\u001b[0;32m----> 1\u001b[0m \u001b[43mmyMean\u001b[49m\u001b[43m(\u001b[49m\u001b[43m[\u001b[49m\u001b[43m]\u001b[49m\u001b[43m)\u001b[49m \u001b[38;5;66;03m# give a explanation of error\u001b[39;00m\n",
      "Cell \u001b[0;32mIn[31], line 5\u001b[0m, in \u001b[0;36mmyMean\u001b[0;34m(ns, isGeom)\u001b[0m\n\u001b[1;32m      3\u001b[0m \u001b[38;5;250m\u001b[39m\u001b[38;5;124;03m\"\"\"calculates arithmetic or geometric mean of a list of numbers\"\"\"\u001b[39;00m\u001b[38;5;66;03m# see next code\u001b[39;00m\n\u001b[1;32m      4\u001b[0m \u001b[38;5;28;01mif\u001b[39;00m isGeom\u001b[38;5;241m==\u001b[39m\u001b[38;5;241m0\u001b[39m:\n\u001b[0;32m----> 5\u001b[0m     \u001b[38;5;28;01mraise\u001b[39;00m \u001b[38;5;167;01mRuntimeError\u001b[39;00m(\u001b[38;5;124m'\u001b[39m\u001b[38;5;124mthr list of nuimbers is empty\u001b[39m\u001b[38;5;124m'\u001b[39m)\n\u001b[1;32m      6\u001b[0m \u001b[38;5;66;03m#raise ValueError('the list of nuimbers is empty')\u001b[39;00m\n\u001b[1;32m      7\u001b[0m \u001b[38;5;28;01mif\u001b[39;00m isGeom:\n",
      "\u001b[0;31mRuntimeError\u001b[0m: thr list of nuimbers is empty"
     ]
    }
   ],
   "source": [
    "myMean([]) # give a explanation of error"
   ]
  },
  {
   "cell_type": "code",
   "execution_count": 33,
   "metadata": {},
   "outputs": [
    {
     "ename": "RuntimeError",
     "evalue": "thr list of nuimbers is empty",
     "output_type": "error",
     "traceback": [
      "\u001b[0;31m---------------------------------------------------------------------------\u001b[0m",
      "\u001b[0;31mRuntimeError\u001b[0m                              Traceback (most recent call last)",
      "Cell \u001b[0;32mIn[33], line 1\u001b[0m\n\u001b[0;32m----> 1\u001b[0m \u001b[43mmyMean\u001b[49m\u001b[43m(\u001b[49m\u001b[43m[\u001b[49m\u001b[38;5;241;43m1\u001b[39;49m\u001b[43m,\u001b[49m\u001b[38;5;241;43m2\u001b[39;49m\u001b[43m,\u001b[49m\u001b[38;5;241;43m3\u001b[39;49m\u001b[43m]\u001b[49m\u001b[43m)\u001b[49m\n",
      "Cell \u001b[0;32mIn[31], line 5\u001b[0m, in \u001b[0;36mmyMean\u001b[0;34m(ns, isGeom)\u001b[0m\n\u001b[1;32m      3\u001b[0m \u001b[38;5;250m\u001b[39m\u001b[38;5;124;03m\"\"\"calculates arithmetic or geometric mean of a list of numbers\"\"\"\u001b[39;00m\u001b[38;5;66;03m# see next code\u001b[39;00m\n\u001b[1;32m      4\u001b[0m \u001b[38;5;28;01mif\u001b[39;00m isGeom\u001b[38;5;241m==\u001b[39m\u001b[38;5;241m0\u001b[39m:\n\u001b[0;32m----> 5\u001b[0m     \u001b[38;5;28;01mraise\u001b[39;00m \u001b[38;5;167;01mRuntimeError\u001b[39;00m(\u001b[38;5;124m'\u001b[39m\u001b[38;5;124mthr list of nuimbers is empty\u001b[39m\u001b[38;5;124m'\u001b[39m)\n\u001b[1;32m      6\u001b[0m \u001b[38;5;66;03m#raise ValueError('the list of nuimbers is empty')\u001b[39;00m\n\u001b[1;32m      7\u001b[0m \u001b[38;5;28;01mif\u001b[39;00m isGeom:\n",
      "\u001b[0;31mRuntimeError\u001b[0m: thr list of nuimbers is empty"
     ]
    }
   ],
   "source": [
    "myMean([1,2,3])"
   ]
  },
  {
   "cell_type": "code",
   "execution_count": 34,
   "metadata": {},
   "outputs": [
    {
     "data": {
      "text/plain": [
       "4.0"
      ]
     },
     "execution_count": 34,
     "metadata": {},
     "output_type": "execute_result"
    }
   ],
   "source": [
    "myMean([2,4,8],True)"
   ]
  },
  {
   "cell_type": "code",
   "execution_count": 35,
   "metadata": {},
   "outputs": [
    {
     "data": {
      "text/plain": [
       "4.0"
      ]
     },
     "execution_count": 35,
     "metadata": {},
     "output_type": "execute_result"
    }
   ],
   "source": [
    "myMean(isGeom= True, ns = [2,4,8])\n",
    "# if we use function is not well known, then to use the arguments names as well\n",
    "# makes our code more readable"
   ]
  },
  {
   "cell_type": "code",
   "execution_count": 36,
   "metadata": {},
   "outputs": [
    {
     "ename": "RuntimeError",
     "evalue": "thr list of nuimbers is empty",
     "output_type": "error",
     "traceback": [
      "\u001b[0;31m---------------------------------------------------------------------------\u001b[0m",
      "\u001b[0;31mRuntimeError\u001b[0m                              Traceback (most recent call last)",
      "Cell \u001b[0;32mIn[36], line 1\u001b[0m\n\u001b[0;32m----> 1\u001b[0m \u001b[43mmyMean\u001b[49m\u001b[43m(\u001b[49m\u001b[43m[\u001b[49m\u001b[38;5;241;43m2\u001b[39;49m\u001b[43m,\u001b[49m\u001b[38;5;241;43m4\u001b[39;49m\u001b[43m,\u001b[49m\u001b[38;5;241;43m8\u001b[39;49m\u001b[43m]\u001b[49m\u001b[43m,\u001b[49m\u001b[38;5;28;43;01mFalse\u001b[39;49;00m\u001b[43m)\u001b[49m \u001b[38;5;66;03m#arithmetic mean\u001b[39;00m\n",
      "Cell \u001b[0;32mIn[31], line 5\u001b[0m, in \u001b[0;36mmyMean\u001b[0;34m(ns, isGeom)\u001b[0m\n\u001b[1;32m      3\u001b[0m \u001b[38;5;250m\u001b[39m\u001b[38;5;124;03m\"\"\"calculates arithmetic or geometric mean of a list of numbers\"\"\"\u001b[39;00m\u001b[38;5;66;03m# see next code\u001b[39;00m\n\u001b[1;32m      4\u001b[0m \u001b[38;5;28;01mif\u001b[39;00m isGeom\u001b[38;5;241m==\u001b[39m\u001b[38;5;241m0\u001b[39m:\n\u001b[0;32m----> 5\u001b[0m     \u001b[38;5;28;01mraise\u001b[39;00m \u001b[38;5;167;01mRuntimeError\u001b[39;00m(\u001b[38;5;124m'\u001b[39m\u001b[38;5;124mthr list of nuimbers is empty\u001b[39m\u001b[38;5;124m'\u001b[39m)\n\u001b[1;32m      6\u001b[0m \u001b[38;5;66;03m#raise ValueError('the list of nuimbers is empty')\u001b[39;00m\n\u001b[1;32m      7\u001b[0m \u001b[38;5;28;01mif\u001b[39;00m isGeom:\n",
      "\u001b[0;31mRuntimeError\u001b[0m: thr list of nuimbers is empty"
     ]
    }
   ],
   "source": [
    "myMean([2,4,8],False) #arithmetic mean"
   ]
  },
  {
   "cell_type": "code",
   "execution_count": 37,
   "metadata": {},
   "outputs": [
    {
     "data": {
      "text/plain": [
       "4.0"
      ]
     },
     "execution_count": 37,
     "metadata": {},
     "output_type": "execute_result"
    }
   ],
   "source": [
    "myMean(isGeom=True, ns = [2,4,8])"
   ]
  },
  {
   "cell_type": "code",
   "execution_count": 38,
   "metadata": {},
   "outputs": [],
   "source": [
    "def myMean(ns):\n",
    "    return sum(ns)/len(ns)\n",
    "myMean = lambda ns: sum(ns)/len(ns) # complete of the code"
   ]
  },
  {
   "attachments": {},
   "cell_type": "markdown",
   "metadata": {},
   "source": [
    "### A function, arguments and the return value"
   ]
  },
  {
   "attachments": {},
   "cell_type": "markdown",
   "metadata": {},
   "source": [
    "Here is an example of a user-defined function `myMean`:\n",
    "- The function takes one argument `x`.  \n",
    "- The function calculates and returns the arithmetic mean of the data provided in the `x` argument."
   ]
  },
  {
   "cell_type": "code",
   "execution_count": null,
   "metadata": {},
   "outputs": [],
   "source": [
    "def myMean( x ):                               #def function_name( arg1, arg2, ... )\n",
    "    # function body                            #    possibly some calculation here\n",
    "    return sum(x)/len(x)                       #    return result_of_the_function"
   ]
  },
  {
   "attachments": {},
   "cell_type": "markdown",
   "metadata": {},
   "source": [
    "Let's call the new function with a list with two elements `[1, 2]`:"
   ]
  },
  {
   "cell_type": "code",
   "execution_count": null,
   "metadata": {},
   "outputs": [],
   "source": [
    "\n",
    "myMean( [1, 2] )                               # calling the function: the argument x is set to a list [1,2]"
   ]
  },
  {
   "attachments": {},
   "cell_type": "markdown",
   "metadata": {},
   "source": [
    "Here is another example of calling the new function from a dictionary comprehension:"
   ]
  },
  {
   "cell_type": "code",
   "execution_count": null,
   "metadata": {},
   "outputs": [],
   "source": [
    "course2grades = {\n",
    "    \"math\": ( 7, 9, 6.5, 8, 8.5 ),\n",
    "    \"physics\": ( 9, 8.5, 9.5, 8, 7.5, 9.5 ),\n",
    "    \"philosophy\": (6, 6.5, 6, 7 )\n",
    "}\n",
    "\n",
    "{c:myMean(gs) for c, gs in course2grades.items()}"
   ]
  },
  {
   "attachments": {},
   "cell_type": "markdown",
   "metadata": {},
   "source": [
    "### An argument with a default value"
   ]
  },
  {
   "attachments": {},
   "cell_type": "markdown",
   "metadata": {},
   "source": [
    "Here an additional argument `isGeom` is added to the function `myMean`.  \n",
    "The value of `isGeom` decides whether arithmetic or geometric mean is calculated."
   ]
  },
  {
   "cell_type": "code",
   "execution_count": null,
   "metadata": {},
   "outputs": [],
   "source": [
    "from math import log, exp\n",
    "\n",
    "def myMean( x, isGeom = False ):               # isGeom has a default value of False, used when not provided in a function call\n",
    "    if isGeom:\n",
    "        logOfX = (log(xx) for xx in x)\n",
    "        return exp( sum(logOfX) / len(x) )\n",
    "    else:\n",
    "        return sum(x) / len(x)"
   ]
  },
  {
   "attachments": {},
   "cell_type": "markdown",
   "metadata": {},
   "source": [
    "The new argument has a default value `False` which will be used when no value is provided when the function is called."
   ]
  },
  {
   "cell_type": "code",
   "execution_count": null,
   "metadata": {},
   "outputs": [],
   "source": [
    "myMean( [1,2,3] )             # isGeom is not provided so it is set to False and the arithmetic mean is calculated"
   ]
  },
  {
   "attachments": {},
   "cell_type": "markdown",
   "metadata": {},
   "source": [
    "Here are different variants of providing `True` value for `isGeom`:"
   ]
  },
  {
   "cell_type": "code",
   "execution_count": null,
   "metadata": {},
   "outputs": [],
   "source": [
    "#myMean( [1,2,3], True )           # argument names may be omitted\n",
    "#myMean( x=[1,2,3], isGeom=True )  # or provided\n",
    "myMean( [1,2,3], isGeom=True )     # or partially provided"
   ]
  },
  {
   "attachments": {},
   "cell_type": "markdown",
   "metadata": {},
   "source": [
    "### Raising exceptions (handling errors)"
   ]
  },
  {
   "attachments": {},
   "cell_type": "markdown",
   "metadata": {},
   "source": [
    "Sometimes a function might be called with wrong arguments. For example:"
   ]
  },
  {
   "cell_type": "code",
   "execution_count": null,
   "metadata": {},
   "outputs": [],
   "source": [
    "#myMean([])        # raises ZeroDivisionError\n",
    "                   # our function divides by zero when x has zero elements"
   ]
  },
  {
   "attachments": {},
   "cell_type": "markdown",
   "metadata": {},
   "source": [
    "Often it is useful to provide more informative (user defined) error messages with help of `raise` command throwing errors/exceptions:"
   ]
  },
  {
   "cell_type": "code",
   "execution_count": null,
   "metadata": {},
   "outputs": [],
   "source": [
    "from math import log, exp\n",
    "\n",
    "def myMean( x, isGeom = False ):\n",
    "    if len(x) == 0:\n",
    "        raise RuntimeError( \"There must be at least one element to calculate mean.\" )\n",
    "    if isGeom:\n",
    "        logOfX = (log(xx) for xx in x)\n",
    "        return exp( sum(logOfX) / len(x) )\n",
    "    else:\n",
    "        return sum(x) / len(x)"
   ]
  },
  {
   "attachments": {},
   "cell_type": "markdown",
   "metadata": {},
   "source": [
    "Now, when the function is called with an empty list as `x` argument, a message easier to diagnose is shown:"
   ]
  },
  {
   "cell_type": "code",
   "execution_count": null,
   "metadata": {},
   "outputs": [],
   "source": [
    "# myMean([])       # raises RuntimeError with the provided message."
   ]
  },
  {
   "cell_type": "markdown",
   "metadata": {},
   "source": [
    "### Describing functions"
   ]
  },
  {
   "attachments": {},
   "cell_type": "markdown",
   "metadata": {},
   "source": [
    "Python provides a *docstring* convention for writing documentation to functions (and other language elements).  \n",
    "A short description of a function, quoted with triple quotes, should be provided at the top of the function body:"
   ]
  },
  {
   "cell_type": "code",
   "execution_count": null,
   "metadata": {},
   "outputs": [],
   "source": [
    "from math import log, exp\n",
    "\n",
    "def myMean( x, isGeom = False ):\n",
    "    \"\"\"Calculates arithmetic or geometric mean of elements in x.\"\"\"\n",
    "    if len(x) == 0:\n",
    "        raise RuntimeError( \"There must be at least one element to calculate mean.\" )\n",
    "    if isGeom:\n",
    "        logOfX = (log(xx) for xx in x)\n",
    "        return exp( sum(logOfX) / len(x) )\n",
    "    else:\n",
    "        return sum(x) / len(x)"
   ]
  },
  {
   "attachments": {},
   "cell_type": "markdown",
   "metadata": {},
   "source": [
    "This documentation is available as follows:"
   ]
  },
  {
   "cell_type": "code",
   "execution_count": null,
   "metadata": {},
   "outputs": [],
   "source": [
    "myMean.__doc__"
   ]
  },
  {
   "attachments": {},
   "cell_type": "markdown",
   "metadata": {},
   "source": [
    "### Lambda functions"
   ]
  },
  {
   "attachments": {},
   "cell_type": "markdown",
   "metadata": {},
   "source": [
    "Let's consider a simple, single-expression function:"
   ]
  },
  {
   "cell_type": "code",
   "execution_count": null,
   "metadata": {},
   "outputs": [],
   "source": [
    "def myMean(x):\n",
    "    return sum(x)/len(x)"
   ]
  },
  {
   "attachments": {},
   "cell_type": "markdown",
   "metadata": {},
   "source": [
    "The same single-expression function can be written in a shorter form:"
   ]
  },
  {
   "cell_type": "code",
   "execution_count": null,
   "metadata": {},
   "outputs": [],
   "source": [
    "myMean = lambda x: sum(x)/len(x)"
   ]
  },
  {
   "attachments": {},
   "cell_type": "markdown",
   "metadata": {},
   "source": [
    "and be called with the usual notation:"
   ]
  },
  {
   "cell_type": "code",
   "execution_count": null,
   "metadata": {},
   "outputs": [],
   "source": [
    "myMean([1,2,3])"
   ]
  },
  {
   "attachments": {},
   "cell_type": "markdown",
   "metadata": {},
   "source": [
    "In some contexts the `lambda` notation allows to write short, compact code."
   ]
  },
  {
   "attachments": {},
   "cell_type": "markdown",
   "metadata": {},
   "source": [
    "## Self-study tasks"
   ]
  },
  {
   "attachments": {},
   "cell_type": "markdown",
   "metadata": {},
   "source": [
    "### A function to convert an exam score to a Dutch grade"
   ]
  },
  {
   "attachments": {},
   "cell_type": "markdown",
   "metadata": {},
   "source": [
    "An exam `score` is a number in a range from `0` to `maxScore`.  \n",
    "Write a function `score2grade( score, maxScore )` which implements a linear transformation of a score to a grade:\n",
    "- for `score=0` the returned grade should be `1`; \n",
    "- for `score=maxScore` the returned grade should be `10`;\n",
    "- for `score` beyond range the function should raise an exception.\n",
    "\n",
    "Add a *docstring* with a short description of the function.\n",
    "Call the function for several combinations of the arguments to check whether it works correctly."
   ]
  },
  {
   "attachments": {},
   "cell_type": "markdown",
   "metadata": {},
   "source": [
    "### A `lambda` function to convert score to grade"
   ]
  },
  {
   "attachments": {},
   "cell_type": "markdown",
   "metadata": {},
   "source": [
    "Write a `lambda` function `s2g`, a simplified version of the `score2grade` function.  \n",
    "Do not check the range of `score`, do not raise the exception, do not write any *docstring*.  \n",
    "But perform the same tests as above, to check whether `s2g` works correctly."
   ]
  },
  {
   "attachments": {},
   "cell_type": "markdown",
   "metadata": {},
   "source": [
    "### Conditional expression "
   ]
  },
  {
   "attachments": {},
   "cell_type": "markdown",
   "metadata": {},
   "source": [
    "The `abs(x)` function returns `x` if `x>=0` or `-x` otherwise, try `abs(-1)` and `abs(1)`.  \n",
    "You are given a list `xs` with numbers.  \n",
    "First, write a list comprehension which maps each value of `xs` through the `abs` function.  \n",
    "Next, assume that the `abs` function is not available.  \n",
    "Rewrite `abs` in the list comprehension with a conditional expression `... if ... else ...`."
   ]
  },
  {
   "attachments": {},
   "cell_type": "markdown",
   "metadata": {},
   "source": [
    "### Arguments `sep` and `end` of `print(...)`"
   ]
  },
  {
   "attachments": {},
   "cell_type": "markdown",
   "metadata": {},
   "source": [
    "Uncomment separately each of the following lines. Understand the effect of `sep` argument. What is the default value of `sep` argument in the `print(...)` function?"
   ]
  },
  {
   "cell_type": "code",
   "execution_count": null,
   "metadata": {},
   "outputs": [],
   "source": [
    "# print( \"A\", \"B\", \"C\" )\n",
    "# print( \"A\", \"B\", \"C\", sep=\"-\" )\n",
    "# print( \"A\", \"B\", \"C\", sep=\"<--->\" )\n",
    "# print( \"A\", sep=\"???\" )"
   ]
  },
  {
   "attachments": {},
   "cell_type": "markdown",
   "metadata": {},
   "source": [
    "Next, compare the output of the following two code blocks. What is the effect of the `end` argument and its default value in the `print(...)` function?"
   ]
  },
  {
   "cell_type": "code",
   "execution_count": null,
   "metadata": {},
   "outputs": [],
   "source": [
    "print( \"A\" )\n",
    "print( \"B\" )\n",
    "print( \"C\" )"
   ]
  },
  {
   "cell_type": "code",
   "execution_count": null,
   "metadata": {},
   "outputs": [],
   "source": [
    "print( \"A\", end=\"\" )\n",
    "print( \"B\", end=\"\" )\n",
    "print( \"C\" )"
   ]
  },
  {
   "attachments": {},
   "cell_type": "markdown",
   "metadata": {},
   "source": [
    "### A condition in a loop in a loop: painting with dots"
   ]
  },
  {
   "attachments": {},
   "cell_type": "markdown",
   "metadata": {},
   "source": [
    "The goal of this task is to learn how to write nested loops and conditionally print characters.  \n",
    "\n",
    "The first (external) loop should iterate over rows (let's call the loop variable `r`).  \n",
    "The second (internal in each row) loop should iterate over columns (use the variable `c`).  \n",
    "The body of the second loop should decide what character to print (e.g. `.`, `#` or a space).  \n",
    "The goal is to print shapes as shown below.\n",
    "\n",
    "For each shape define a function (names given below).  \n",
    "Each function should have a single argument `size` which defines the number of rows and columns which the shape should occupy.\n",
    "\n",
    "*Note:* Study first the `sep` and `end` arguments of the `print(...)` function in order to know how to print in a new line or how to stay in the same line."
   ]
  },
  {
   "cell_type": "code",
   "execution_count": null,
   "metadata": {},
   "outputs": [],
   "source": [
    "# printGrid(10)          # These commands printed the shapes\n",
    "# printBackslash(6)\n",
    "# printSlash(8)\n",
    "# printSquare(7)\n",
    "# printX(10)\n",
    "# printLUTriangle(10)\n",
    "# printRBTriangle(10)"
   ]
  },
  {
   "attachments": {},
   "cell_type": "markdown",
   "metadata": {},
   "source": [
    "```{code-block} python\n",
    "..........        <- printGrid(10)\n",
    "..........\n",
    "..........\n",
    "..........\n",
    "..........\n",
    "..........\n",
    "..........\n",
    "..........\n",
    "..........\n",
    "..........\n",
    "\n",
    "#.....            <- printBackslash(6)\n",
    ".#....\n",
    "..#...\n",
    "...#..\n",
    "....#.\n",
    ".....#\n",
    "\n",
    ".......#          <- printSlash(8)\n",
    "......#.\n",
    ".....#..\n",
    "....#...\n",
    "...#....\n",
    "..#.....\n",
    ".#......\n",
    "#.......\n",
    "\n",
    "#######           <- printSquare(7)\n",
    "#.....#\n",
    "#.....#\n",
    "#.....#\n",
    "#.....#\n",
    "#.....#\n",
    "#######\n",
    "\n",
    "#........#        <- printX(10)\n",
    ".#......#.\n",
    "..#....#..\n",
    "...#..#...\n",
    "....##....\n",
    "....##....\n",
    "...#..#...\n",
    "..#....#..\n",
    ".#......#.\n",
    "#........#\n",
    "\n",
    "##########        <- printLUTriangle(10)\n",
    "#.......#\n",
    "#......#\n",
    "#.....#\n",
    "#....#\n",
    "#...#\n",
    "#..#\n",
    "#.#\n",
    "##\n",
    "#\n",
    "\n",
    "         #        <- printRBTriangle(10)\n",
    "        ##\n",
    "       #.#\n",
    "      #..#\n",
    "     #...#\n",
    "    #....#\n",
    "   #.....#\n",
    "  #......#\n",
    " #.......#\n",
    "##########\n",
    "```"
   ]
  },
  {
   "attachments": {},
   "cell_type": "markdown",
   "metadata": {},
   "source": [
    "### Rewriting the function `myMean`"
   ]
  },
  {
   "attachments": {},
   "cell_type": "markdown",
   "metadata": {},
   "source": [
    "In the lecture materials the following implementation of the function `myMean` was presented.  \n",
    "It works well for the list given below in the example (`vs`) but it does not work for the generator (`vs2`).  \n",
    "Understand, why it does not work for the generator.  \n",
    "Propose a different implementation of `myMean` function which works for `vs` and `vs2`."
   ]
  },
  {
   "cell_type": "code",
   "execution_count": null,
   "metadata": {},
   "outputs": [],
   "source": [
    "def myMean( x ):\n",
    "    return sum(x)/len(x)\n",
    "\n",
    "vs  = [ 1, 5, 10, 15, 30 ]\n",
    "vs2 = ( v**2 for v in vs )\n",
    "myMean( vs )     # this works\n",
    "#myMean( vs2 )   # this raises an exception"
   ]
  },
  {
   "attachments": {},
   "cell_type": "markdown",
   "metadata": {},
   "source": [
    "### Processing lines of a remote file"
   ]
  },
  {
   "attachments": {},
   "cell_type": "markdown",
   "metadata": {},
   "source": [
    "Let's practice accessing (remote) files.\n",
    "\n",
    "*Goal:* get `README.md` file of this course and from it select only text lines containing the word `course`.  \n",
    "Store the selected text lines as a list in `textsWithCourse`.\n",
    "\n",
    "*Hints:* \n",
    "- the `url` address for the `README.md` file is `https://raw.githubusercontent.com/LUMC/EfDS/main/README.md`\n",
    "- the package `urllib.request` is needed for the function `urlopen(url)` providing access to remote locations\n",
    "- `urllib.request.urlopen(url).readlines()` returns an object iterable over single lines of the file\n",
    "- each line `l` is not yet a text string; use `l.decode( \"utf-8\" )` to get a `str` object with the text of the line\n",
    "- if `t` is a `str` object, then with `\"course\" in t` you may check whether the word `course` is in the string"
   ]
  }
 ],
 "metadata": {
  "kernelspec": {
   "display_name": "Python 3",
   "language": "python",
   "name": "python3"
  },
  "language_info": {
   "codemirror_mode": {
    "name": "ipython",
    "version": 3
   },
   "file_extension": ".py",
   "mimetype": "text/x-python",
   "name": "python",
   "nbconvert_exporter": "python",
   "pygments_lexer": "ipython3",
   "version": "3.13.1"
  },
  "orig_nbformat": 4
 },
 "nbformat": 4,
 "nbformat_minor": 2
}
